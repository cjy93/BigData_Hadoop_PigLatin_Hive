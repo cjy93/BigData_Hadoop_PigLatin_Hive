{
 "cells": [
  {
   "cell_type": "code",
   "execution_count": 1,
   "metadata": {},
   "outputs": [],
   "source": [
    "# load in the tab delimited file\n",
    "import pandas as pd\n",
    "\n",
    "myfile = \"logfile_20190428_1914.tsv\"\n",
    "df = pd.read_csv(myfile,sep=' ',header = None)\n"
   ]
  },
  {
   "cell_type": "code",
   "execution_count": 2,
   "metadata": {},
   "outputs": [
    {
     "name": "stdout",
     "output_type": "stream",
     "text": [
      "['2019-01-01 00:00:00', '2019-01-02 00:00:00', '2019-01-03 00:00:00', '2019-01-04 00:00:00', '2019-01-05 00:00:00', '2019-01-06 00:00:00', '2019-01-07 00:00:00', '2019-01-08 00:00:00', '2019-01-09 00:00:00', '2019-01-10 00:00:00', '2019-01-11 00:00:00', '2019-01-12 00:00:00', '2019-01-13 00:00:00', '2019-01-14 00:00:00', '2019-01-15 00:00:00', '2019-01-16 00:00:00', '2019-01-17 00:00:00', '2019-01-18 00:00:00', '2019-01-19 00:00:00', '2019-01-20 00:00:00', '2019-01-21 00:00:00', '2019-01-22 00:00:00', '2019-01-23 00:00:00', '2019-01-24 00:00:00', '2019-01-25 00:00:00', '2019-01-26 00:00:00', '2019-01-27 00:00:00', '2019-01-28 00:00:00', '2019-01-29 00:00:00', '2019-01-30 00:00:00', '2019-01-31 00:00:00', '2019-02-01 00:00:00', '2019-02-02 00:00:00', '2019-02-03 00:00:00', '2019-02-04 00:00:00', '2019-02-05 00:00:00', '2019-02-06 00:00:00', '2019-02-07 00:00:00', '2019-02-08 00:00:00', '2019-02-09 00:00:00', '2019-02-10 00:00:00', '2019-02-11 00:00:00', '2019-02-12 00:00:00', '2019-02-13 00:00:00', '2019-02-14 00:00:00', '2019-02-15 00:00:00', '2019-02-16 00:00:00', '2019-02-17 00:00:00', '2019-02-18 00:00:00', '2019-02-19 00:00:00', '2019-02-20 00:00:00', '2019-02-21 00:00:00', '2019-02-22 00:00:00', '2019-02-23 00:00:00', '2019-02-24 00:00:00', '2019-02-25 00:00:00', '2019-02-26 00:00:00', '2019-02-27 00:00:00', '2019-02-28 00:00:00', '2019-03-01 00:00:00', '2019-03-02 00:00:00', '2019-03-03 00:00:00', '2019-03-04 00:00:00', '2019-03-05 00:00:00', '2019-03-06 00:00:00', '2019-03-07 00:00:00', '2019-03-08 00:00:00', '2019-03-09 00:00:00', '2019-03-10 00:00:00', '2019-03-11 00:00:00', '2019-03-12 00:00:00', '2019-03-13 00:00:00', '2019-03-14 00:00:00', '2019-03-15 00:00:00', '2019-03-16 00:00:00', '2019-03-17 00:00:00', '2019-03-18 00:00:00', '2019-03-19 00:00:00', '2019-03-20 00:00:00', '2019-03-21 00:00:00', '2019-03-22 00:00:00', '2019-03-23 00:00:00', '2019-03-24 00:00:00', '2019-03-25 00:00:00', '2019-03-26 00:00:00', '2019-03-27 00:00:00', '2019-03-28 00:00:00', '2019-03-29 00:00:00', '2019-03-30 00:00:00', '2019-03-31 00:00:00']\n"
     ]
    }
   ],
   "source": [
    "# create a list of dates \n",
    "from datetime import date, timedelta,datetime\n",
    "\n",
    "d1 = datetime(2019, 1, 1,0,0)  # start date\n",
    "d2 = datetime(2019, 3,31 ,0,0)  # end date\n",
    "\n",
    "delta = d2 - d1         # timedelta\n",
    "\n",
    "dateRecord=[]\n",
    "for i in range(delta.days + 1):\n",
    "    dates = d1 + timedelta(days=i)\n",
    "    \n",
    "    # first must convert to string format before append\n",
    "    dates = '{}'.format(dates)   \n",
    "    #print(dates)\n",
    "    dateRecord.append(dates)\n",
    "print(dateRecord)\n"
   ]
  },
  {
   "cell_type": "code",
   "execution_count": 3,
   "metadata": {},
   "outputs": [
    {
     "data": {
      "text/plain": [
       "list"
      ]
     },
     "execution_count": 3,
     "metadata": {},
     "output_type": "execute_result"
    }
   ],
   "source": [
    "# check number of unique IP addresses\n",
    "len(df.iloc[:,3].unique())\n",
    "IP_list = df.iloc[:,3].unique().tolist()\n",
    "type(IP_list)"
   ]
  },
  {
   "cell_type": "code",
   "execution_count": 4,
   "metadata": {},
   "outputs": [
    {
     "data": {
      "text/html": [
       "<div>\n",
       "<style scoped>\n",
       "    .dataframe tbody tr th:only-of-type {\n",
       "        vertical-align: middle;\n",
       "    }\n",
       "\n",
       "    .dataframe tbody tr th {\n",
       "        vertical-align: top;\n",
       "    }\n",
       "\n",
       "    .dataframe thead th {\n",
       "        text-align: right;\n",
       "    }\n",
       "</style>\n",
       "<table border=\"1\" class=\"dataframe\">\n",
       "  <thead>\n",
       "    <tr style=\"text-align: right;\">\n",
       "      <th></th>\n",
       "      <th>month</th>\n",
       "      <th>temp_mean_daily_max</th>\n",
       "    </tr>\n",
       "  </thead>\n",
       "  <tbody>\n",
       "    <tr>\n",
       "      <th>0</th>\n",
       "      <td>2019-01</td>\n",
       "      <td>31.7</td>\n",
       "    </tr>\n",
       "    <tr>\n",
       "      <th>1</th>\n",
       "      <td>2019-02</td>\n",
       "      <td>32.8</td>\n",
       "    </tr>\n",
       "    <tr>\n",
       "      <th>2</th>\n",
       "      <td>2019-03</td>\n",
       "      <td>33.5</td>\n",
       "    </tr>\n",
       "  </tbody>\n",
       "</table>\n",
       "</div>"
      ],
      "text/plain": [
       "     month  temp_mean_daily_max\n",
       "0  2019-01                 31.7\n",
       "1  2019-02                 32.8\n",
       "2  2019-03                 33.5"
      ]
     },
     "execution_count": 4,
     "metadata": {},
     "output_type": "execute_result"
    }
   ],
   "source": [
    "# make daily temperature out of Mean daily temperature data set\n",
    "# use statistical knowledge of inverse Norm , and then add the mean to the value to create inverse norm on non standard normal dist\n",
    "# first call in the mean average daily temperature to use the mean value\n",
    "\n",
    "# there is mean max and mean min temp, so i want to find the average of these 2\n",
    "df_max = pd.read_csv(\"weather/surface-air-temperature-monthly-mean-daily-maximum.csv\")\n",
    "df_min = pd.read_csv(\"weather/surface-air-temperature-monthly-mean-daily-minimum.csv\")\n",
    "df_rainfall = pd.read_csv(\"weather/rainfall-monthly-number-of-rain-days.csv\")\n",
    "# since the log file only from Jan 2019 to March 2019, we take the mean only for these 3 months\n",
    "df_max_short = df_max.loc[444:446,:]\n",
    "df_min_short = df_min.loc[444:446,:]\n",
    "df_rainfall_short = df_rainfall.loc[444:446,:] # index see from the df printed out not from excel\n",
    "                  \n",
    "# reindexing since the index become 444 to 446\n",
    "df_min_short = df_min_short.reset_index()\n",
    "del df_min_short['index']\n",
    "df_max_short = df_max_short.reset_index()\n",
    "del df_max_short['index']\n",
    "df_rainfall_short = df_rainfall_short.reset_index()\n",
    "del df_rainfall_short['index']\n",
    "df_rainfall_short.no_of_rainy_days[2]                          \n",
    "df_max_short"
   ]
  },
  {
   "cell_type": "code",
   "execution_count": 5,
   "metadata": {},
   "outputs": [
    {
     "data": {
      "text/plain": [
       "[26.4, 25.7, 26.7, 26.3, 28.3, 25.7, 31.4, 29.8, 31.3]"
      ]
     },
     "execution_count": 5,
     "metadata": {},
     "output_type": "execute_result"
    }
   ],
   "source": [
    "# create random average temperature for each day \n",
    "import random\n",
    "numDays = len(dateRecord)\n",
    "\n",
    "# times 10 to the temperature since randint can only take integers, then divide back to become 1 dec place num\n",
    "temp = []\n",
    "for item in dateRecord:\n",
    "    month = int(item[6])  \n",
    "    #print(month)\n",
    "    #print(monthIndex)\n",
    "    if month == 1:\n",
    "        #a = df_min_short.iloc[month][1]\n",
    "        #print(a)\n",
    "        #print()\n",
    "        #b = df_rainfall_short.iloc[month]\n",
    "        #print(b)\n",
    "        #print()\n",
    "        #c = random.randint(1,5)\n",
    "        #print(c)\n",
    "        temp.append((random.randint((df_min_short.iloc[month-1][1])*10,(df_max_short.iloc[month-1][1])*10))/10)\n",
    "    if month == 2:\n",
    "        temp.append((random.randint((df_min_short.iloc[month-1][1])*10,(df_max_short.iloc[month-1][1])*10))/10)\n",
    "    if month == 3:\n",
    "        temp.append((random.randint((df_min_short.iloc[month-1][1])*10,(df_max_short.iloc[month-1][1])*10))/10)\n",
    "\n",
    "temp[1:10]\n"
   ]
  },
  {
   "cell_type": "code",
   "execution_count": 6,
   "metadata": {},
   "outputs": [
    {
     "name": "stdout",
     "output_type": "stream",
     "text": [
      "[27, 11, 14, 7, 3, 25, 24, 22, 9, 21, 31, 2, 8, 16, 20, 29, 30, 5, 13, 26, 28, 18, 19, 1, 15, 23, 10, 17, 6, 12, 4]\n",
      "[13, 26, 9, 28, 22, 18, 7, 25, 27, 23, 10, 14, 21, 3, 11, 24, 1, 20, 4, 16, 17, 12, 6, 19, 8, 2, 5, 15]\n",
      "[27, 6, 17, 26, 24, 25, 5, 2, 31, 10, 20, 15, 11, 14, 19, 12, 23, 28, 4, 21, 9, 3, 29, 18, 16, 1, 13, 30, 22, 8, 7]\n",
      "after deleted Jan [27, 11, 14, 7, 3, 25, 24, 22, 9, 21, 31, 2, 8, 16, 20, 29, 30, 5, 13, 26, 28, 18] : \n",
      "after deleted Feb [13, 26, 9, 28, 22, 18, 7, 25, 27, 23, 10, 14, 21, 3, 11, 24, 1, 20, 4, 16, 17, 12, 6] : \n",
      "after deleted Mar [27, 6, 17, 26, 24, 25, 5, 2, 31, 10, 20, 15, 11, 14, 19, 12, 23, 28, 4, 21, 9, 3, 29, 18, 16] : \n",
      "22 23 25\n",
      "[[27, 11, 14, 7, 3, 25, 24, 22, 9, 21, 31, 2, 8, 16, 20, 29, 30, 5, 13, 26, 28, 18], [13, 26, 9, 28, 22, 18, 7, 25, 27, 23, 10, 14, 21, 3, 11, 24, 1, 20, 4, 16, 17, 12, 6], [27, 6, 17, 26, 24, 25, 5, 2, 31, 10, 20, 15, 11, 14, 19, 12, 23, 28, 4, 21, 9, 3, 29, 18, 16]]\n"
     ]
    }
   ],
   "source": [
    "# fix a threshold for good weather and threshold for bad weather\n",
    "# if a day got rain is also Bad weather\n",
    "# https://smallbusiness.chron.com/randomize-list-python-26724.html\n",
    "thresholdHighestTemp = 31 # degree\n",
    "\n",
    "# generate a index so i can choose exactly the number of times it rains in the mth (based on data.gov.sg)\n",
    "# but make the position of 1 is random\n",
    "index = list(range(len(df_rainfall)))\n",
    "# generate random index\n",
    "randomIdx = []\n",
    "index_Jan = list(range(1,32))\n",
    "index_Feb = list(range(1,29))\n",
    "index_Mar = list(range(1,32))\n",
    "\n",
    "#shuffle then remove last few elements corr to num of days raining that month\n",
    "random.shuffle(index_Jan) \n",
    "random.shuffle(index_Feb)\n",
    "random.shuffle(index_Mar) \n",
    "print(index_Jan)\n",
    "print(index_Feb)\n",
    "print(index_Mar)\n",
    "#print(len(index_Mar))\n",
    "\n",
    "# drop the number of values corr by number of days it rain in that month\n",
    "del index_Jan[-(df_rainfall_short.no_of_rainy_days[0]) :]\n",
    "print(\"after deleted Jan {} : \".format(index_Jan))\n",
    "del index_Feb[-(df_rainfall_short.no_of_rainy_days[1]) :]\n",
    "print(\"after deleted Feb {} : \".format(index_Feb))\n",
    "del index_Mar[-(df_rainfall_short.no_of_rainy_days[2]) :]\n",
    "print(\"after deleted Mar {} : \".format(index_Mar))\n",
    "print(len(index_Jan),len(index_Feb),len(index_Mar))\n",
    "\n",
    "randomList = [\n",
    "    index_Jan ,\n",
    "    index_Feb ,\n",
    "    index_Mar ,\n",
    "]\n",
    "print(randomList)"
   ]
  },
  {
   "cell_type": "code",
   "execution_count": 7,
   "metadata": {},
   "outputs": [
    {
     "name": "stdout",
     "output_type": "stream",
     "text": [
      "[array([1., 0., 0., 1., 0., 1., 0., 0., 0., 1., 0., 1., 0., 0., 1., 0., 1.,\n",
      "       0., 1., 0., 0., 0., 1., 0., 0., 0., 0., 0., 0., 0., 0.]), array([0., 1., 0., 0., 1., 0., 0., 1., 0., 0., 0., 0., 0., 0., 1., 0., 0.,\n",
      "       0., 1., 0., 0., 0., 0., 0., 0., 0., 0., 0.]), array([1., 0., 0., 0., 0., 0., 1., 1., 0., 0., 0., 0., 1., 0., 0., 0., 0.,\n",
      "       0., 0., 0., 0., 1., 0., 0., 0., 0., 0., 0., 0., 1., 0.])]\n"
     ]
    },
    {
     "data": {
      "text/plain": [
       "90"
      ]
     },
     "execution_count": 7,
     "metadata": {},
     "output_type": "execute_result"
    }
   ],
   "source": [
    "# simulate number of days of rain\n",
    "# times 10 to the temperature since randint can only take integers, then divide back to become 1 dec place num\n",
    "import numpy as np\n",
    "from numpy import ones\n",
    "binaryRain = []\n",
    "janRain = ones([31])\n",
    "febRain = ones([28])\n",
    "marRain = ones([31])\n",
    "\n",
    "mthRain = [\n",
    "            ones([31]), #jan\n",
    "            ones([28]), #feb\n",
    "            ones([31]), #mar\n",
    "          ]\n",
    "\n",
    "# replace 1 for days that rain. 0 for days that did not rain\n",
    "def replaceOnes(listed,monthrain):\n",
    "    for index in listed:\n",
    "        monthrain[index-1]=0 # position index is -1 of the day\n",
    "    return(monthrain)\n",
    "\n",
    "for i in range(len(mthRain)):\n",
    "    mthRain[i] = replaceOnes(randomList[i], mthRain[i]) #mthRain[0] is JanRain\n",
    "print(mthRain)\n",
    "mthRain_toDf = np.concatenate(mthRain).ravel().tolist()\n",
    "mthRain_toDf[1:10]\n",
    "len(mthRain_toDf) #check there are correct number of days betw Jan to March"
   ]
  },
  {
   "cell_type": "code",
   "execution_count": 8,
   "metadata": {},
   "outputs": [
    {
     "data": {
      "text/plain": [
       "numpy.float64"
      ]
     },
     "execution_count": 8,
     "metadata": {},
     "output_type": "execute_result"
    }
   ],
   "source": [
    "# make to a dataframe from the lists above\n",
    "d = {'date':dateRecord,'temperature':temp, 'rainyDays':mthRain_toDf}\n",
    "df = pd.DataFrame(d)\n",
    "df.head()\n",
    "type(df.rainyDays[0])"
   ]
  },
  {
   "cell_type": "code",
   "execution_count": 9,
   "metadata": {},
   "outputs": [
    {
     "data": {
      "text/plain": [
       "[405, 181, 397, 154, 308, 569, 377, 384, 623]"
      ]
     },
     "execution_count": 9,
     "metadata": {},
     "output_type": "execute_result"
    }
   ],
   "source": [
    "# create data sales online on rainy days vs non rainy days\n",
    "# create data sales online on a very hot day (above 31 deg) vs good weather\n",
    "from random import randint\n",
    "sales = []\n",
    "for i in range(0,len(df)):\n",
    "    if df.temperature[i] > 31 and df.rainyDays[i] == 0:\n",
    "        expSales = randint(100,800)\n",
    "        sales.append(expSales)\n",
    "    elif df.temperature[i] <= 31 and df.rainyDays[i] == 0:\n",
    "        expSales = randint(100,600)\n",
    "        sales.append(expSales)\n",
    "    elif df.temperature[i] > 31 and df.rainyDays[i] == 1:\n",
    "        expSales = randint(300,800)\n",
    "        sales.append(expSales)\n",
    "    else:\n",
    "        expSales = randint(100,600)\n",
    "        sales.append(expSales)\n",
    "sales[1:10]"
   ]
  },
  {
   "cell_type": "code",
   "execution_count": 10,
   "metadata": {},
   "outputs": [
    {
     "data": {
      "text/html": [
       "<div>\n",
       "<style scoped>\n",
       "    .dataframe tbody tr th:only-of-type {\n",
       "        vertical-align: middle;\n",
       "    }\n",
       "\n",
       "    .dataframe tbody tr th {\n",
       "        vertical-align: top;\n",
       "    }\n",
       "\n",
       "    .dataframe thead th {\n",
       "        text-align: right;\n",
       "    }\n",
       "</style>\n",
       "<table border=\"1\" class=\"dataframe\">\n",
       "  <thead>\n",
       "    <tr style=\"text-align: right;\">\n",
       "      <th></th>\n",
       "      <th>date</th>\n",
       "      <th>temperature</th>\n",
       "      <th>rainyDays</th>\n",
       "      <th>sales_in_dollars</th>\n",
       "    </tr>\n",
       "  </thead>\n",
       "  <tbody>\n",
       "    <tr>\n",
       "      <th>0</th>\n",
       "      <td>2019-01-01 00:00:00</td>\n",
       "      <td>25.6</td>\n",
       "      <td>1.0</td>\n",
       "      <td>459</td>\n",
       "    </tr>\n",
       "    <tr>\n",
       "      <th>1</th>\n",
       "      <td>2019-01-02 00:00:00</td>\n",
       "      <td>26.4</td>\n",
       "      <td>0.0</td>\n",
       "      <td>405</td>\n",
       "    </tr>\n",
       "    <tr>\n",
       "      <th>2</th>\n",
       "      <td>2019-01-03 00:00:00</td>\n",
       "      <td>25.7</td>\n",
       "      <td>0.0</td>\n",
       "      <td>181</td>\n",
       "    </tr>\n",
       "    <tr>\n",
       "      <th>3</th>\n",
       "      <td>2019-01-04 00:00:00</td>\n",
       "      <td>26.7</td>\n",
       "      <td>1.0</td>\n",
       "      <td>397</td>\n",
       "    </tr>\n",
       "    <tr>\n",
       "      <th>4</th>\n",
       "      <td>2019-01-05 00:00:00</td>\n",
       "      <td>26.3</td>\n",
       "      <td>0.0</td>\n",
       "      <td>154</td>\n",
       "    </tr>\n",
       "  </tbody>\n",
       "</table>\n",
       "</div>"
      ],
      "text/plain": [
       "                  date  temperature  rainyDays  sales_in_dollars\n",
       "0  2019-01-01 00:00:00         25.6        1.0               459\n",
       "1  2019-01-02 00:00:00         26.4        0.0               405\n",
       "2  2019-01-03 00:00:00         25.7        0.0               181\n",
       "3  2019-01-04 00:00:00         26.7        1.0               397\n",
       "4  2019-01-05 00:00:00         26.3        0.0               154"
      ]
     },
     "execution_count": 10,
     "metadata": {},
     "output_type": "execute_result"
    }
   ],
   "source": [
    "# finally, append this last column to the df\n",
    "df = df.assign(sales_in_dollars = sales)\n",
    "df.to_csv(\"bonusData1_salesWeather.csv\")\n",
    "df.head()"
   ]
  },
  {
   "cell_type": "raw",
   "metadata": {},
   "source": [
    "from random import shuffle\n",
    "\n",
    "list1 = [1,2,3,4,5]\n",
    "shuffle(list1)\n",
    "print(shuffle(list1))\n",
    "list1"
   ]
  },
  {
   "cell_type": "raw",
   "metadata": {},
   "source": [
    "# Calculate mean average temperature\n",
    "df_max_list = df_max_short['temp_mean_daily_max'].tolist()\n",
    "df_min_list = df_min_short['temp_mean_daily_min'].tolist()\n",
    "print(type(df_min_list[1]))\n",
    "\n",
    "df_mean_list = []\n",
    "for i in range(0,len(df_min_list)):\n",
    "    avg = (df_max_list[i] + df_min_list[i])/2\n",
    "    df_mean_list.append(avg)\n",
    "    \n",
    "df_mean_list"
   ]
  },
  {
   "cell_type": "raw",
   "metadata": {},
   "source": [
    "import numpy as np\n",
    "import random\n",
    "# mean and standard deviation\n",
    "# did some research on Singapore temperature, it will range betw 10 to 12 deg diff\n",
    "# each day, so sigma is a random sample if 9-10 deg\n",
    "\n",
    "# jan 2019 got 31 days\n",
    "mu = df_mean_list[0]\n",
    "sigma = random.randint(9,10)\n",
    "s0 = np.random.normal(mu, sigma, 31).tolist()\n",
    "# feb 2019 got 28 days\n",
    "mu = df_mean_list[1]\n",
    "sigma = random.randint(9,10)\n",
    "s1 = np.random.normal(mu, sigma, 28).tolist()\n",
    "# mar 2019 got 31 days\n",
    "mu = df_mean_list[2]\n",
    "sigma = random.randint(9,10)\n",
    "s2 = np.random.normal(mu, sigma, 31).tolist()\n",
    "\n",
    "\n",
    "# append all the list to get the whole set of temp \n",
    "finalweather = s0 + s1 + s2\n",
    "finalweather[1:10]"
   ]
  },
  {
   "cell_type": "code",
   "execution_count": null,
   "metadata": {},
   "outputs": [],
   "source": []
  },
  {
   "cell_type": "code",
   "execution_count": null,
   "metadata": {},
   "outputs": [],
   "source": []
  }
 ],
 "metadata": {
  "kernelspec": {
   "display_name": "Python 3",
   "language": "python",
   "name": "python3"
  },
  "language_info": {
   "codemirror_mode": {
    "name": "ipython",
    "version": 3
   },
   "file_extension": ".py",
   "mimetype": "text/x-python",
   "name": "python",
   "nbconvert_exporter": "python",
   "pygments_lexer": "ipython3",
   "version": "3.7.1"
  }
 },
 "nbformat": 4,
 "nbformat_minor": 2
}
